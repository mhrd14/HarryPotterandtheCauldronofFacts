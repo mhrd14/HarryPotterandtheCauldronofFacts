{
 "cells": [
  {
   "cell_type": "code",
   "execution_count": 1,
   "metadata": {},
   "outputs": [],
   "source": [
    "import pandas as pd\n",
    "import os\n",
    "import re\n",
    "import string"
   ]
  },
  {
   "cell_type": "code",
   "execution_count": 2,
   "metadata": {},
   "outputs": [],
   "source": [
    "# Get all the books into a dataframe\n",
    "\n",
    "directory = 'books'\n",
    "text = []\n",
    "part = []\n",
    "for filename in os.listdir(directory):\n",
    "    f = open(\"books/\"+ filename,\"r\",encoding=\"utf8\")\n",
    "    lines = f.readlines()\n",
    "    bookname = filename.split('.')[0][1:]\n",
    "    part.append(bookname)\n",
    "    actext = ' '.join(lines)\n",
    "    text.append(actext)"
   ]
  },
  {
   "cell_type": "code",
   "execution_count": 3,
   "metadata": {},
   "outputs": [],
   "source": [
    "data = pd.DataFrame({'part':part,'script': text},index = part)\n",
    "test = data.copy()\n",
    "tester = data.copy()"
   ]
  },
  {
   "cell_type": "code",
   "execution_count": 4,
   "metadata": {},
   "outputs": [],
   "source": [
    "# Apply a first round of text cleaning techniques\n",
    "change = {'chapter one':\"\",'chapter two':'','chapter three':'','chapter four':'','chapter five':'','chapter six':'','chapter seven':'','chapter eight':''\n",
    "           ,'chapter nine':'','chapter ten':'','chapter eleven':'','chapter twelve':'','chapter thirteen':'','chapter fourteen':'','chapter fifteen':''\n",
    "           ,'chapter sixteen':'','chapter seventeen':'','chapter eighteen':'','chapter nineteen':'','chapter twenty':'','chapter twenty-one':'','chapter twenty-two':''\n",
    "           ,'chapter twenty-three':'','chapter twenty-four':'','chapter twenty-five':'','chapter twenty-six':'','chapter twenty-seven':'','chapter twenty-eight':''\n",
    "           ,'chapter twenty-nine':'','chapter thirty':'','chapter thirty-one':'','chapter thirty-two':'','chapter thirty-three':'','chapter thirty-four':''\n",
    "           ,'chapter thirty-five':'','chapter thirty-six':'','chapter thirty-seven':'','chapter thirty-eight':''}\n",
    "\n",
    "def replace_all(text, dic):\n",
    "    for i, j in dic.items():\n",
    "        text = text.replace(i, j)\n",
    "    return text\n",
    "\n",
    "def cleantext(text):\n",
    "    text = text.lower()\n",
    "    text = re.sub('[“...\"\\xad\\n\\t().,:;()!?]', '', text) #removing various symbols mentioned inside the square brackets\n",
    "    text = re.sub(\"[']\", '', text)\n",
    "    text = text.replace(\"--\",'') #replacing symbol with none\n",
    "    #text = re.sub('[%s]' % re.escape(string.punctuation), '', text) #to clean of punctuation marks\n",
    "    text = re.sub('chapter \\d+ ', '', text) #to remove chapter names that have numbers in them eg:chapter 1, chapter 2 etc.\n",
    "    text = replace_all(text, change)\n",
    "    return text\n",
    "\n",
    "basic = lambda x: cleantext(x)"
   ]
  },
  {
   "cell_type": "code",
   "execution_count": 5,
   "metadata": {},
   "outputs": [],
   "source": [
    "test = pd.DataFrame(test.script.apply(basic))\n",
    "tester = pd.DataFrame(tester.script.apply(basic))"
   ]
  },
  {
   "cell_type": "markdown",
   "metadata": {},
   "source": [
    "1. Clearly We ought to clean quite a lot, starting with \"CHAPTER\" and then the special characters such as \"\\n, \\, ..., --, !, \",',\\xad \". I hope hoewver not to delete the '-' as it the words like 'You-know-who' are considered as one word and will lose its meaning if done so. \n",
    "2. Will have to convert all the words to lower case.\n",
    "3. Bound to remove ONE, TWO... adjoining the CHAPTER as well. \n",
    "4. Can't use the means to remove non-english words as a good percent of the harry potter terminology is made up and it puts us at a disadvantage. "
   ]
  },
  {
   "cell_type": "markdown",
   "metadata": {},
   "source": [
    "After cleaning let's see first the different characters in all the books. "
   ]
  },
  {
   "cell_type": "code",
   "execution_count": 6,
   "metadata": {
    "scrolled": false
   },
   "outputs": [],
   "source": [
    "import collections \n",
    "from collections import Counter \n",
    "import nltk\n",
    "from nltk.tokenize import word_tokenize\n",
    "from nltk.corpus import stopwords\n",
    "from nltk.stem.porter import PorterStemmer\n",
    "from nltk.stem import WordNetLemmatizer\n",
    "wordnet_lemmatizer = WordNetLemmatizer()\n",
    "stop_words = set(stopwords.words('english'))"
   ]
  },
  {
   "cell_type": "code",
   "execution_count": 7,
   "metadata": {},
   "outputs": [],
   "source": [
    "relist = ['t','y','ll','d','o','s','m'] # remove list == relist \n",
    "\n",
    "adlist = ['hadnt','wasnt','dont','its','lets','youd','shes','werent','youll','doesnt','isnt','wont','youre','neednt',\n",
    "          'didnt','youve','hasnt','wouldnt','shouldnt','couldnt','mightnt','aint','arent','hes','yours','his','im','thats',\n",
    "         'theyre','id','theres','ill','say', 'could', 'look', 'like', 'see','seen','looked','said','says'] #add list == adlist\n",
    "\n",
    "for i in relist:\n",
    "    stop_words.remove(i)  #removing some existing stop words from the set\n",
    "\n",
    "for j in adlist:\n",
    "    stop_words.add(j) #adding some custom stop words to the set"
   ]
  },
  {
   "cell_type": "code",
   "execution_count": 8,
   "metadata": {},
   "outputs": [
    {
     "name": "stdout",
     "output_type": "stream",
     "text": [
      "{'youve', 'hasn', 'shan', 'been', 'no', 'that', 'on', 'all', 'neednt', 'theyre', \"needn't\", 'hadnt', 'to', 'herself', 'ill', \"you're\", 'youll', 'each', 'ourselves', 'shes', \"hadn't\", 'hasnt', 'arent', 'had', 'having', 'few', 'out', 'here', 'are', \"you'll\", 'you', 'won', 'about', 'can', 'could', 'theres', 'again', \"you'd\", 'those', 'isn', 'their', 'lets', 'id', 'his', 'was', 'there', 'thats', 'said', 'we', 'mightn', 'my', 'yourselves', 'so', 'most', 'between', 'the', \"didn't\", 'isnt', 'shouldnt', 'myself', 'she', 'didn', 'seen', 'hers', 're', 'not', 'they', 'into', 'says', 'very', 'he', 'up', 'off', 'im', 'didnt', 'wont', 'your', 'above', 'where', 'being', 'do', \"wouldn't\", 'don', 'too', 'an', 'other', 'wasn', \"shan't\", 'him', 'what', \"aren't\", 'as', 'youd', 'which', 'own', 'down', \"couldn't\", \"isn't\", 'for', 'see', \"it's\", 'but', 'himself', \"you've\", 'itself', \"don't\", 'this', 'wasnt', 'wouldnt', 'werent', 'hes', 'when', \"doesn't\", 'our', 'these', 'youre', \"weren't\", \"won't\", 'and', 'themselves', 'theirs', 'couldnt', 'her', 'same', 'ain', 'shouldn', 'a', 'say', 'have', 'under', 'why', 'like', \"she's\", 'mustn', 'am', 'yourself', 'before', 'while', 'any', 'if', \"mightn't\", 'doesn', 'needn', 'mightnt', 'were', 'did', 'until', 'doesnt', 'how', 'who', 'couldn', 'them', 'wouldn', \"should've\", 'haven', \"that'll\", 'from', 'or', 'me', 'is', 'by', 'its', 'at', 'it', 'during', 'below', 'some', 'aint', 'be', 'because', 'nor', 'than', 'more', 'further', \"mustn't\", 'then', 'whom', \"shouldn't\", 'of', 'aren', 'once', \"wasn't\", 'should', \"haven't\", 'will', 'has', 'such', 'ma', 've', 'with', 'hadn', 'against', \"hasn't\", 'both', 'dont', 'looked', 'only', 'now', 'yours', 'weren', 'i', 'doing', 'after', 'look', 'does', 'through', 'in', 'over', 'ours', 'just'}\n"
     ]
    }
   ],
   "source": [
    "print(stop_words)"
   ]
  },
  {
   "cell_type": "code",
   "execution_count": 9,
   "metadata": {},
   "outputs": [],
   "source": [
    "# Cleaning the test dataset some more by removing stop words. \n",
    "for i in test.index:\n",
    "    tokens = word_tokenize(test.loc[i][0])\n",
    "    words = [w for w in tokens if not w in stop_words]\n",
    "    test.loc[i][0] = ' '.join(words)\n",
    "\n",
    "for i in tester.index:\n",
    "    tokens = word_tokenize(tester.loc[i][0])\n",
    "    words = [w for w in tokens if not w in stop_words]\n",
    "    tester.loc[i][0] = ' '.join(words)"
   ]
  },
  {
   "cell_type": "code",
   "execution_count": 10,
   "metadata": {},
   "outputs": [],
   "source": [
    "#Lemmatization of one dataset which is a copy of original data, we shall compare lemmatized and non lemmatized datasets' results. \n",
    "for i in tester.index:\n",
    "    tokens = word_tokenize(tester.loc[i][0])\n",
    "    tojoin = []\n",
    "    for wor in tokens:\n",
    "        tojoin.append(wordnet_lemmatizer.lemmatize(wor,pos = \"v\"))\n",
    "    tester.loc[i][0] = ' '.join(tojoin)"
   ]
  },
  {
   "cell_type": "code",
   "execution_count": 11,
   "metadata": {},
   "outputs": [],
   "source": [
    "corpus_test = word_tokenize(test.loc['SorcerersStone'][0]) \n",
    "# Analysing with one script - Harry potter and the sorcerers stone to understand the process and make sense of the data \n",
    "corpus_tester = word_tokenize(tester.loc['SorcerersStone'][0])"
   ]
  },
  {
   "cell_type": "code",
   "execution_count": 12,
   "metadata": {},
   "outputs": [
    {
     "name": "stdout",
     "output_type": "stream",
     "text": [
      "[('harry', 1212), ('ron', 410), ('hagrid', 336), ('back', 261), ('hermione', 257), ('one', 254), ('got', 206), ('get', 194), ('know', 188), ('professor', 180), ('snape', 145), ('around', 142), ('dumbledore', 142), ('hed', 138), ('going', 135), ('well', 135), ('go', 134), ('something', 129), ('never', 126), ('right', 125), ('think', 123), ('uncle', 121), ('time', 119), ('dudley', 116), ('harrys', 113), ('first', 111), ('malfoy', 109), ('would', 108), ('even', 105), ('eyes', 105), ('door', 105), ('vernon', 105), ('neville', 102), ('yeh', 100), ('head', 99), ('two', 99), ('looking', 98), ('thought', 96), ('next', 96), ('come', 95), ('mcgonagall', 95), ('potter', 94), ('way', 94), ('told', 93), ('people', 92), ('still', 92), ('room', 90), ('quirrell', 90), ('face', 87), ('though', 86)]\n"
     ]
    }
   ],
   "source": [
    "print(nltk.FreqDist(corpus_test).most_common(50))"
   ]
  },
  {
   "cell_type": "code",
   "execution_count": 13,
   "metadata": {},
   "outputs": [
    {
     "name": "stdout",
     "output_type": "stream",
     "text": [
      "[('harry', 1325), ('get', 461), ('ron', 410), ('go', 401), ('hagrid', 336), ('know', 294), ('back', 267), ('hermione', 257), ('one', 254), ('think', 242), ('come', 204), ('tell', 180), ('professor', 180), ('take', 174), ('try', 170), ('snape', 145), ('around', 142), ('dumbledore', 142), ('make', 141), ('hed', 138), ('time', 137), ('want', 135), ('well', 135), ('find', 134), ('something', 129), ('never', 126), ('leave', 125), ('right', 125), ('head', 122), ('uncle', 121), ('even', 120), ('eye', 120), ('dudley', 116), ('turn', 115), ('potter', 112), ('first', 111), ('hand', 111), ('face', 109), ('malfoy', 109), ('would', 108), ('hear', 108), ('keep', 106), ('look', 106), ('door', 105), ('vernon', 105), ('give', 102), ('neville', 102), ('ask', 101), ('yeh', 100), ('two', 99)]\n"
     ]
    }
   ],
   "source": [
    "print(nltk.FreqDist(corpus_tester).most_common(50))"
   ]
  },
  {
   "cell_type": "markdown",
   "metadata": {},
   "source": [
    "Checking the lemmatized and non-lemmatized data, non-lemmatized looks literary wise better and makes more sense when compared to the lemmatized version. Hence we shall exclude the lemmatized format from the below frequent words/sentences analysis. "
   ]
  },
  {
   "cell_type": "markdown",
   "metadata": {},
   "source": [
    "###### From bigrams to sixgrams\n",
    "\n",
    "Finding the most frequent set of words to understand the gist of the text. "
   ]
  },
  {
   "cell_type": "code",
   "execution_count": 14,
   "metadata": {},
   "outputs": [],
   "source": [
    "n_most_common= 5 #I chose to take top 5 combination of words. "
   ]
  },
  {
   "cell_type": "code",
   "execution_count": 17,
   "metadata": {},
   "outputs": [],
   "source": [
    "#For test dataset - Without lemmatization \n",
    "\n",
    "ungrams = list(nltk.ngrams(corpus_test,1))\n",
    "bigrams = list(nltk.ngrams(corpus_test,2))\n",
    "trigrams = list(nltk.ngrams(corpus_test,3))\n",
    "fourgrams = list(nltk.ngrams(corpus_test,4))\n",
    "fivegrams = list(nltk.ngrams(corpus_test,5))\n",
    "sixgrams = list(nltk.ngrams(corpus_test,6))\n",
    "\n",
    "nungrams = nltk.FreqDist(ungrams).most_common(n_most_common) #n most common ungrams\n",
    "nbigrams = nltk.FreqDist(bigrams).most_common(n_most_common) #n most common bigrams\n",
    "ntrigrams = nltk.FreqDist(trigrams).most_common(n_most_common) #n most common trigrams\n",
    "nfourgrams = nltk.FreqDist(fourgrams).most_common(n_most_common) #n most common four grams\n",
    "nfivegrams = nltk.FreqDist(fivegrams).most_common(n_most_common) #n most common five grams\n",
    "nsixgrams = nltk.FreqDist(sixgrams).most_common(n_most_common) #n most common six grams\n",
    "\n",
    "#concatinating the words together \n",
    "ungrams=[x[0][0] for x in nungrams]\n",
    "bigrams=[x[0][0]+' '+x[0][1] for x in nbigrams]\n",
    "trigrams=[x[0][0]+' '+x[0][1]+' '+x[0][2] for x in ntrigrams]\n",
    "fourgrams=[x[0][0]+' '+x[0][1]+' '+x[0][2]+' '+x[0][3] for x in nfourgrams]\n",
    "fivegrams=[x[0][0]+' '+x[0][1]+' '+x[0][2]+' '+x[0][3]+' '+x[0][4]  for x in nfivegrams]\n",
    "sixgrams=[x[0][0]+' '+x[0][1]+' '+x[0][2]+' '+x[0][3]+' '+x[0][4]+' '+x[0][5]  for x in nsixgrams]\n",
    "\n",
    "#extending the list to give us the top used words and combination of words. \n",
    "n_grams=ungrams\n",
    "n_grams.extend(bigrams)\n",
    "n_grams.extend(trigrams)\n",
    "n_grams.extend(fourgrams)\n",
    "n_grams.extend(fivegrams)\n",
    "n_grams.extend(sixgrams)"
   ]
  },
  {
   "cell_type": "code",
   "execution_count": 18,
   "metadata": {},
   "outputs": [
    {
     "name": "stdout",
     "output_type": "stream",
     "text": [
      "['harry', 'ron', 'hagrid', 'back', 'hermione', 'uncle vernon', 'professor mcgonagall', 'aunt petunia', 'harry ron', 'ron hermione', 'nimbus two thousand', 'harry ron hermione', 'platform nine three-quarters', 'gryffindor common room', 'get past fluffy', 'vault seven hundred thirteen', 'botts every flavor beans', 'uncle vernon aunt petunia', 'hogwarts school witchcraft wizardry', 'one thousand magical herbs', 'one thousand magical herbs fungi', 'bettie botts every flavor beans', 'read hogwarts school witchcraft wizardry', 'died codswallop opinion dunno enough', 'codswallop opinion dunno enough human', 'died codswallop opinion dunno enough human', 'codswallop opinion dunno enough human left', 'opinion dunno enough human left die', 'dumbledore particularly famous defeat dark wizard', 'particularly famous defeat dark wizard grindelwald']\n"
     ]
    }
   ],
   "source": [
    "print(n_grams) #non-lemmatized"
   ]
  },
  {
   "cell_type": "code",
   "execution_count": 19,
   "metadata": {},
   "outputs": [],
   "source": [
    "un=[(x[0][0],x[1]) for x in nungrams]\n",
    "bi=[(x[0][0]+' '+x[0][1],x[1]) for x in nbigrams]\n",
    "tri=[(x[0][0]+' '+x[0][1]+' '+x[0][2],x[1]) for x in ntrigrams]\n",
    "four=[(x[0][0]+' '+x[0][1]+' '+x[0][2]+' '+x[0][3],x[1]) for x in nfourgrams]\n",
    "five=[(x[0][0]+' '+x[0][1]+' '+x[0][2]+' '+x[0][3]+' '+x[0][4],x[1])  for x in nfivegrams]\n",
    "six=[(x[0][0]+' '+x[0][1]+' '+x[0][2]+' '+x[0][3]+' '+x[0][4]+' '+x[0][5],x[1])  for x in nsixgrams]"
   ]
  },
  {
   "cell_type": "code",
   "execution_count": 20,
   "metadata": {},
   "outputs": [
    {
     "name": "stdout",
     "output_type": "stream",
     "text": [
      "{'harry': 1212, 'ron': 410, 'hagrid': 336, 'back': 261, 'hermione': 257, 'uncle vernon': 97, 'professor mcgonagall': 90, 'aunt petunia': 52, 'harry ron': 52, 'ron hermione': 36, 'nimbus two thousand': 14, 'harry ron hermione': 10, 'platform nine three-quarters': 7, 'gryffindor common room': 7, 'get past fluffy': 7, 'vault seven hundred thirteen': 6, 'botts every flavor beans': 4, 'uncle vernon aunt petunia': 3, 'hogwarts school witchcraft wizardry': 3, 'one thousand magical herbs': 3, 'died codswallop opinion dunno enough human': 2, 'codswallop opinion dunno enough human left': 2, 'opinion dunno enough human left die': 2, 'dumbledore particularly famous defeat dark wizard': 2, 'particularly famous defeat dark wizard grindelwald': 2}\n"
     ]
    }
   ],
   "source": [
    "lis = [un, bi,tri,four,six]\n",
    "dictofgrams = {}\n",
    "for element in lis:\n",
    "    for i in element:\n",
    "        dictofgrams[i[0]] = i[1]\n",
    "\n",
    "print(dictofgrams)"
   ]
  },
  {
   "cell_type": "markdown",
   "metadata": {},
   "source": [
    "Plotting the count and the word in the decreasing order"
   ]
  },
  {
   "cell_type": "code",
   "execution_count": 36,
   "metadata": {},
   "outputs": [
    {
     "data": {
      "image/png": "[encoded data removed]",
      "text/plain": [
       "<Figure size 432x288 with 1 Axes>"
      ]
     },
     "metadata": {
      "needs_background": "light"
     },
     "output_type": "display_data"
    }
   ],
   "source": [
    "import seaborn as sns\n",
    "\n",
    "gramplot = sns.barplot(list(dictofgrams.keys()), list(dictofgrams.values()),palette=\"rocket\")\n",
    "for item in gramplot.get_xticklabels():\n",
    "    item.set_rotation(90)"
   ]
  },
  {
   "cell_type": "markdown",
   "metadata": {},
   "source": [
    "The visualization gives pretty much the most important characters in the text (harry, ron, hermione, hagrid, uncle vernon, aunt petunia, professor mcgonagall etc) and as well explains the main parts of story such as (the vault seven hundred and thirteen and getting past fluffy, platform 9 3/4, nimbus 2000 being the first broom of harry, hogwarts school and dumbledore defeating wizard grindelwald etc). "
   ]
  },
  {
   "cell_type": "code",
   "execution_count": null,
   "metadata": {},
   "outputs": [],
   "source": []
  }
 ],
 "metadata": {
  "kernelspec": {
   "display_name": "Python 3",
   "language": "python",
   "name": "python3"
  },
  "language_info": {
   "codemirror_mode": {
    "name": "ipython",
    "version": 3
   },
   "file_extension": ".py",
   "mimetype": "text/x-python",
   "name": "python",
   "nbconvert_exporter": "python",
   "pygments_lexer": "ipython3",
   "version": "3.7.6"
  }
 },
 "nbformat": 4,
 "nbformat_minor": 4
}
